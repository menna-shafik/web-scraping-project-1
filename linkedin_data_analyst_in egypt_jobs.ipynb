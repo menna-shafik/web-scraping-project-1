{
 "cells": [
  {
   "cell_type": "code",
   "execution_count": 1,
   "id": "dda5e3ac-cf00-4f81-a774-ef9e1e403ab8",
   "metadata": {},
   "outputs": [],
   "source": [
    "from selenium import webdriver\n",
    "from selenium.webdriver.common.by import By\n",
    "from selenium.webdriver.common.keys import Keys\n",
    "from selenium.webdriver.support.ui import WebDriverWait\n",
    "from selenium.webdriver.support import expected_conditions as EC\n",
    "import time\n",
    "import csv"
   ]
  },
  {
   "cell_type": "code",
   "execution_count": 2,
   "id": "99d6310b-3264-4e09-9e8f-f60e1fcbd3fe",
   "metadata": {},
   "outputs": [],
   "source": [
    "driver = webdriver.Chrome()\n",
    "driver.get(\"https://www.linkedin.com/jobs/search/?keywords=data%20analyst&location=Egypt\")\n",
    "wait = WebDriverWait(driver, 10)"
   ]
  },
  {
   "cell_type": "code",
   "execution_count": 3,
   "id": "dec71fb0-8fbf-4662-82e0-1cc6b6b14e1a",
   "metadata": {},
   "outputs": [
    {
     "name": "stdout",
     "output_type": "stream",
     "text": [
      "📄 Page starting at 0 has 25 jobs\n",
      "📄 Page starting at 25 has 25 jobs\n"
     ]
    }
   ],
   "source": [
    "# Open CSV file\n",
    "with open('linkedin_data_analyst_in_egypt_jobs.csv', mode='w', newline='', encoding='utf-8') as file:\n",
    "    writer = csv.writer(file)\n",
    "    writer.writerow([\"Job Title\", \"Company Name\", \"Job Location\", \"Easy Apply\", \"Job Link\"])\n",
    "\n",
    "    # Loop through first 6 pages (0, 25, 50, 75, 100, 125)\n",
    "    for start in range(0, 150, 25):\n",
    "        url = f\"https://www.linkedin.com/jobs/search/?keywords=data%20analyst&location=Egypt&start={start}\"\n",
    "        driver.get(url)\n",
    "        time.sleep(5)\n",
    "\n",
    "        # Scroll to load more jobs on the page\n",
    "        for _ in range(5):\n",
    "            driver.find_element(By.TAG_NAME, \"body\").send_keys(Keys.END)\n",
    "            time.sleep(2)\n",
    "\n",
    "        job_blocks = driver.find_elements(By.CLASS_NAME, \"job-card-container\")\n",
    "        print(f\"📄 Page starting at {start} has {len(job_blocks)} jobs\")\n",
    "\n",
    "        for block in job_blocks:\n",
    "            # Job title and link\n",
    "            try:\n",
    "                job_title_element = block.find_element(By.CSS_SELECTOR, 'a.job-card-container__link.job-card-list__title--link')\n",
    "                job_title = job_title_element.text.strip()\n",
    "                job_link = job_title_element.get_attribute('href')\n",
    "            except:\n",
    "                job_title = \"N/A\"\n",
    "                job_link = \"N/A\"\n",
    "\n",
    "            # Company name\n",
    "            try:\n",
    "                company_name = block.find_element(By.CSS_SELECTOR, 'div.artdeco-entity-lockup__subtitle > span').text.strip()\n",
    "            except:\n",
    "                company_name = \"N/A\"\n",
    "\n",
    "            # Job location\n",
    "            try:\n",
    "                job_location = block.find_element(By.CSS_SELECTOR, 'ul.job-card-container__metadata-wrapper li').text.strip()\n",
    "            except:\n",
    "                job_location = \"N/A\"\n",
    "\n",
    "            # Easy Apply status\n",
    "            try:\n",
    "                easy_apply = \"Easy Apply\" if \"Easy Apply\" in block.text else \"Not Available\"\n",
    "            except:\n",
    "                easy_apply = \"Not Available\"\n",
    "\n",
    "            # Write to CSV\n",
    "            writer.writerow([job_title, company_name, job_location, easy_apply, job_link])\n",
    "\n",
    "driver.quit()"
   ]
  },
  {
   "cell_type": "code",
   "execution_count": null,
   "id": "f46bcece-1c8d-4aa2-be48-e8372ce4b94e",
   "metadata": {},
   "outputs": [],
   "source": []
  }
 ],
 "metadata": {
  "kernelspec": {
   "display_name": "Python 3 (ipykernel)",
   "language": "python",
   "name": "python3"
  },
  "language_info": {
   "codemirror_mode": {
    "name": "ipython",
    "version": 3
   },
   "file_extension": ".py",
   "mimetype": "text/x-python",
   "name": "python",
   "nbconvert_exporter": "python",
   "pygments_lexer": "ipython3",
   "version": "3.12.1"
  }
 },
 "nbformat": 4,
 "nbformat_minor": 5
}
